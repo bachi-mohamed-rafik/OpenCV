{
 "cells": [
  {
   "cell_type": "code",
   "execution_count": 1,
   "metadata": {},
   "outputs": [],
   "source": [
    "import cv2"
   ]
  },
  {
   "cell_type": "code",
   "execution_count": 2,
   "metadata": {},
   "outputs": [],
   "source": [
    "img=cv2.imread('geeks14.png',1)\n",
    "img1=cv2.imread('geeks14.png',0)\n"
   ]
  },
  {
   "cell_type": "code",
   "execution_count": 3,
   "metadata": {},
   "outputs": [
    {
     "name": "stdout",
     "output_type": "stream",
     "text": [
      "[[[ 87 157  14]\n",
      "  [ 87 157  14]\n",
      "  [ 87 157  14]\n",
      "  ...\n",
      "  [ 87 157  14]\n",
      "  [ 87 157  14]\n",
      "  [ 87 157  14]]\n",
      "\n",
      " [[ 87 157  14]\n",
      "  [ 87 157  14]\n",
      "  [ 87 157  14]\n",
      "  ...\n",
      "  [ 87 157  14]\n",
      "  [ 87 157  14]\n",
      "  [ 87 157  14]]\n",
      "\n",
      " [[ 87 157  14]\n",
      "  [ 87 157  14]\n",
      "  [ 87 157  14]\n",
      "  ...\n",
      "  [ 87 157  14]\n",
      "  [ 87 157  14]\n",
      "  [ 87 157  14]]\n",
      "\n",
      " ...\n",
      "\n",
      " [[ 72 133   9]\n",
      "  [ 72 133   9]\n",
      "  [ 72 133   9]\n",
      "  ...\n",
      "  [ 87 157  14]\n",
      "  [ 87 157  14]\n",
      "  [ 87 157  14]]\n",
      "\n",
      " [[ 72 133   9]\n",
      "  [ 72 133   9]\n",
      "  [ 72 133   9]\n",
      "  ...\n",
      "  [ 87 157  14]\n",
      "  [ 87 157  14]\n",
      "  [ 87 157  14]]\n",
      "\n",
      " [[ 72 133   9]\n",
      "  [ 72 133   9]\n",
      "  [ 72 133   9]\n",
      "  ...\n",
      "  [ 87 157  14]\n",
      "  [ 87 157  14]\n",
      "  [ 87 157  14]]]\n"
     ]
    }
   ],
   "source": [
    "print(img)"
   ]
  },
  {
   "cell_type": "code",
   "execution_count": 4,
   "metadata": {},
   "outputs": [
    {
     "name": "stdout",
     "output_type": "stream",
     "text": [
      "[[106 106 106 ... 106 106 106]\n",
      " [106 106 106 ... 106 106 106]\n",
      " [106 106 106 ... 106 106 106]\n",
      " ...\n",
      " [ 88  88  88 ... 106 106 106]\n",
      " [ 88  88  88 ... 106 106 106]\n",
      " [ 88  88  88 ... 106 106 106]]\n"
     ]
    }
   ],
   "source": [
    "print(img1)"
   ]
  },
  {
   "cell_type": "code",
   "execution_count": 5,
   "metadata": {},
   "outputs": [
    {
     "name": "stdout",
     "output_type": "stream",
     "text": [
      "<class 'numpy.ndarray'>\n"
     ]
    }
   ],
   "source": [
    "print(type(img1))"
   ]
  },
  {
   "cell_type": "code",
   "execution_count": 6,
   "metadata": {},
   "outputs": [
    {
     "name": "stdout",
     "output_type": "stream",
     "text": [
      "(225, 225)\n"
     ]
    }
   ],
   "source": [
    "print(img1.shape)"
   ]
  },
  {
   "cell_type": "markdown",
   "metadata": {},
   "source": [
    "# Display the image"
   ]
  },
  {
   "cell_type": "code",
   "execution_count": 7,
   "metadata": {},
   "outputs": [],
   "source": [
    "img=cv2.imread('geeks14.png',0)\n",
    "cv2.imshow(\"Title\",img)\n",
    "cv2.waitKey(0)\n",
    "cv2.destroyAllWindows()"
   ]
  },
  {
   "cell_type": "markdown",
   "metadata": {},
   "source": [
    "# Resizing an image"
   ]
  },
  {
   "cell_type": "code",
   "execution_count": 8,
   "metadata": {},
   "outputs": [],
   "source": [
    "import cv2\n",
    "#Black and white\n",
    "img=cv2.imread('geeks14.png',0)\n",
    "\n",
    "resize_image=cv2.resize(img,(100,1000))\n",
    "\n",
    "cv2.imshow(\"Title\",resize_image)\n",
    "cv2.waitKey(0)\n",
    "cv2.destroyAllWindows()"
   ]
  },
  {
   "cell_type": "markdown",
   "metadata": {},
   "source": [
    "# Resize"
   ]
  },
  {
   "cell_type": "code",
   "execution_count": 9,
   "metadata": {},
   "outputs": [],
   "source": [
    "resize=cv2.resize(img,(int(img.shape[1]/2),int(img.shape[0]/2)))"
   ]
  },
  {
   "cell_type": "markdown",
   "metadata": {},
   "source": [
    "# Face detection"
   ]
  },
  {
   "cell_type": "code",
   "execution_count": 10,
   "metadata": {},
   "outputs": [
    {
     "name": "stdout",
     "output_type": "stream",
     "text": [
      "<class 'numpy.ndarray'>\n",
      "[[412 302 754 754]\n",
      " [544 963 440 440]]\n"
     ]
    }
   ],
   "source": [
    "import cv2\n",
    "\n",
    "\n",
    "face_cascade=cv2.CascadeClassifier(r'haarcascade_frontalface_default.xml')\n",
    "\n",
    "\n",
    "img=cv2.imread('photo.jpg',cv2.COLOR_BGR2GRAY)\n",
    "\n",
    "gray_img=cv2.cvtColor(img,cv2.COLOR_BGR2GRAY)\n",
    "\n",
    "faces=face_cascade.detectMultiScale(gray_img,scaleFactor=1.05,minNeighbors=5)\n",
    "\n",
    "\n",
    "print(type(faces))\n",
    "print(faces)\n"
   ]
  },
  {
   "cell_type": "code",
   "execution_count": 11,
   "metadata": {},
   "outputs": [],
   "source": [
    "for x,y,w,h in faces:\n",
    "    img=cv2.rectangle(img,(x,y),(x+w,y+h),(0,255,0),3)\n",
    "    \n",
    "resized=cv2.resize(img,(int(img.shape[1]/7),int(img.shape[1]/7)))\n",
    "cv2.imshow(\"Gray\",resized)\n",
    "cv2.waitKey(0)\n",
    "cv2.destroyAllWindows()    \n",
    "    \n",
    "    \n",
    "    \n",
    "    "
   ]
  },
  {
   "cell_type": "markdown",
   "metadata": {},
   "source": [
    "# Capture Video"
   ]
  },
  {
   "cell_type": "code",
   "execution_count": 12,
   "metadata": {},
   "outputs": [
    {
     "name": "stdout",
     "output_type": "stream",
     "text": [
      "True\n",
      "[[[ 88   1  58]\n",
      "  [  0   0   0]\n",
      "  [  0   0 112]\n",
      "  ...\n",
      "  [  0 208 186]\n",
      "  [ 35   8   0]\n",
      "  [  0   0   0]]\n",
      "\n",
      " [[208 186  35]\n",
      "  [  8   0   0]\n",
      "  [  0   0 208]\n",
      "  ...\n",
      "  [  0 208 186]\n",
      "  [ 35   8   0]\n",
      "  [  0   0   0]]\n",
      "\n",
      " [[208 186  35]\n",
      "  [  8   0   0]\n",
      "  [  0   0 208]\n",
      "  ...\n",
      "  [  0 208 186]\n",
      "  [ 35   8   0]\n",
      "  [  0   0   0]]\n",
      "\n",
      " ...\n",
      "\n",
      " [[  0   0   0]\n",
      "  [  0   0   0]\n",
      "  [  0   0   0]\n",
      "  ...\n",
      "  [  0   0   0]\n",
      "  [  0   0   0]\n",
      "  [  0   0   0]]\n",
      "\n",
      " [[  0   0   0]\n",
      "  [  0   0   0]\n",
      "  [  0   0   0]\n",
      "  ...\n",
      "  [  0   0   0]\n",
      "  [  0   0   0]\n",
      "  [  0   0   0]]\n",
      "\n",
      " [[  0   0   0]\n",
      "  [  0   0   0]\n",
      "  [  0   0   0]\n",
      "  ...\n",
      "  [  0   0   0]\n",
      "  [  0   0   0]\n",
      "  [  0   0   0]]]\n"
     ]
    }
   ],
   "source": [
    "import cv2,time\n",
    "\n",
    "video=cv2.VideoCapture(0)\n",
    "check,frame=video.read()\n",
    "\n",
    "time.sleep(15)\n",
    "video.release()\n",
    "print(check)\n",
    "print(frame)"
   ]
  },
  {
   "cell_type": "code",
   "execution_count": 13,
   "metadata": {},
   "outputs": [],
   "source": [
    "cv2.imshow(\"Gray\",frame)\n",
    "cv2.waitKey(0)\n",
    "cv2.destroyAllWindows()    \n"
   ]
  },
  {
   "cell_type": "markdown",
   "metadata": {},
   "source": [
    "# Capturing Video"
   ]
  },
  {
   "cell_type": "code",
   "execution_count": 14,
   "metadata": {},
   "outputs": [
    {
     "name": "stdout",
     "output_type": "stream",
     "text": [
      "[[[70 74 73]\n",
      "  [68 72 71]\n",
      "  [70 76 70]\n",
      "  ...\n",
      "  [73 78 74]\n",
      "  [65 73 68]\n",
      "  [40 48 43]]\n",
      "\n",
      " [[75 79 78]\n",
      "  [71 75 74]\n",
      "  [65 74 72]\n",
      "  ...\n",
      "  [65 72 70]\n",
      "  [60 68 63]\n",
      "  [52 60 55]]\n",
      "\n",
      " [[70 81 79]\n",
      "  [64 75 73]\n",
      "  [66 75 73]\n",
      "  ...\n",
      "  [58 65 63]\n",
      "  [56 63 61]\n",
      "  [56 63 61]]\n",
      "\n",
      " ...\n",
      "\n",
      " [[ 3 18 38]\n",
      "  [ 0 15 35]\n",
      "  [ 6 18 29]\n",
      "  ...\n",
      "  [ 0  0  8]\n",
      "  [ 0  0  7]\n",
      "  [ 0  0  5]]\n",
      "\n",
      " [[ 7 19 37]\n",
      "  [ 6 18 36]\n",
      "  [ 3 15 26]\n",
      "  ...\n",
      "  [ 0  0  6]\n",
      "  [ 0  0  4]\n",
      "  [ 0  0  5]]\n",
      "\n",
      " [[19 17 35]\n",
      "  [18 16 34]\n",
      "  [12 12 25]\n",
      "  ...\n",
      "  [ 0  0  3]\n",
      "  [ 0  0  3]\n",
      "  [ 0  0  4]]]\n"
     ]
    },
    {
     "ename": "AttributeError",
     "evalue": "module 'cv2.cv2' has no attribute 'waieKey'",
     "output_type": "error",
     "traceback": [
      "\u001b[1;31m---------------------------------------------------------------------------\u001b[0m",
      "\u001b[1;31mAttributeError\u001b[0m                            Traceback (most recent call last)",
      "\u001b[1;32m<ipython-input-14-c45c42c573df>\u001b[0m in \u001b[0;36m<module>\u001b[1;34m\u001b[0m\n\u001b[0;32m     10\u001b[0m     \u001b[0mgray\u001b[0m\u001b[1;33m=\u001b[0m\u001b[0mcv2\u001b[0m\u001b[1;33m.\u001b[0m\u001b[0mcvtColor\u001b[0m\u001b[1;33m(\u001b[0m\u001b[0mframe\u001b[0m\u001b[1;33m,\u001b[0m\u001b[0mcv2\u001b[0m\u001b[1;33m.\u001b[0m\u001b[0mCOLOR_BGR2GRAY\u001b[0m\u001b[1;33m)\u001b[0m\u001b[1;33m\u001b[0m\u001b[1;33m\u001b[0m\u001b[0m\n\u001b[0;32m     11\u001b[0m     \u001b[0mcv2\u001b[0m\u001b[1;33m.\u001b[0m\u001b[0mimshow\u001b[0m\u001b[1;33m(\u001b[0m\u001b[1;34m\"capture\"\u001b[0m\u001b[1;33m,\u001b[0m\u001b[0mgray\u001b[0m\u001b[1;33m)\u001b[0m\u001b[1;33m\u001b[0m\u001b[1;33m\u001b[0m\u001b[0m\n\u001b[1;32m---> 12\u001b[1;33m     \u001b[0mkey\u001b[0m\u001b[1;33m=\u001b[0m\u001b[0mcv2\u001b[0m\u001b[1;33m.\u001b[0m\u001b[0mwaieKey\u001b[0m\u001b[1;33m(\u001b[0m\u001b[1;36m1\u001b[0m\u001b[1;33m)\u001b[0m\u001b[1;33m\u001b[0m\u001b[1;33m\u001b[0m\u001b[0m\n\u001b[0m\u001b[0;32m     13\u001b[0m     \u001b[1;32mif\u001b[0m \u001b[0mkey\u001b[0m \u001b[1;33m==\u001b[0m \u001b[0mord\u001b[0m\u001b[1;33m(\u001b[0m\u001b[1;34m'q'\u001b[0m\u001b[1;33m)\u001b[0m\u001b[1;33m:\u001b[0m\u001b[1;33m\u001b[0m\u001b[1;33m\u001b[0m\u001b[0m\n\u001b[0;32m     14\u001b[0m         \u001b[0mbreack\u001b[0m\u001b[1;33m\u001b[0m\u001b[1;33m\u001b[0m\u001b[0m\n",
      "\u001b[1;31mAttributeError\u001b[0m: module 'cv2.cv2' has no attribute 'waieKey'"
     ]
    }
   ],
   "source": [
    "import cv2,time\n",
    "\n",
    "video=cv2.VideoCapture(0)\n",
    "a=1\n",
    "\n",
    "while True:\n",
    "    a=a+1\n",
    "    check,frame=video.read()\n",
    "    print(frame)\n",
    "    gray=cv2.cvtColor(frame,cv2.COLOR_BGR2GRAY)\n",
    "    cv2.imshow(\"capture\",gray)\n",
    "    key=cv2.waieKey(1)\n",
    "    if key == ord('q'):\n",
    "        breack\n",
    "    \n",
    "print(a)    \n",
    "video.release()\n",
    "cv2.destroyallWindows()\n",
    "\n"
   ]
  },
  {
   "cell_type": "code",
   "execution_count": null,
   "metadata": {},
   "outputs": [],
   "source": []
  }
 ],
 "metadata": {
  "kernelspec": {
   "display_name": "Python 3",
   "language": "python",
   "name": "python3"
  },
  "language_info": {
   "codemirror_mode": {
    "name": "ipython",
    "version": 3
   },
   "file_extension": ".py",
   "mimetype": "text/x-python",
   "name": "python",
   "nbconvert_exporter": "python",
   "pygments_lexer": "ipython3",
   "version": "3.7.3"
  }
 },
 "nbformat": 4,
 "nbformat_minor": 4
}
