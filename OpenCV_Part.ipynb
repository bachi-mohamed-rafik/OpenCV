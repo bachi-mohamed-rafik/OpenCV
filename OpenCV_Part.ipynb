{
 "cells": [
  {
   "cell_type": "code",
   "execution_count": 20,
   "metadata": {},
   "outputs": [],
   "source": [
    "import numpy as np\n",
    "import cv2"
   ]
  },
  {
   "cell_type": "markdown",
   "metadata": {},
   "source": [
    "# Task 1. Read Image & Show Output of the Image "
   ]
  },
  {
   "cell_type": "code",
   "execution_count": 21,
   "metadata": {},
   "outputs": [],
   "source": [
    "img = cv2.imread(r'C:\\Users\\Bachi\\Desktop\\DS\\OpenCV\\geeks14.png',cv2.IMREAD_GRAYSCALE)\n",
    "cv2.imshow('IMREAD_GRAYSCALE', img)\n",
    "\n",
    "cv2.waitKey(0)\n",
    " \n",
    "cv2.destroyAllWindows()\n"
   ]
  },
  {
   "cell_type": "code",
   "execution_count": 22,
   "metadata": {},
   "outputs": [],
   "source": [
    "img = cv2.imread(r'C:\\Users\\Bachi\\Desktop\\DS\\OpenCV\\geeks14.png',cv2.IMREAD_COLOR)\n",
    "cv2.imshow('IMREAD_COLOR', img)\n",
    "\n",
    "cv2.waitKey(0)\n",
    " \n",
    "cv2.destroyAllWindows()\n"
   ]
  },
  {
   "cell_type": "code",
   "execution_count": 23,
   "metadata": {},
   "outputs": [],
   "source": [
    "img = cv2.imread(r'C:\\Users\\Bachi\\Desktop\\DS\\OpenCV\\geeks14.png',cv2.IMREAD_ANYCOLOR)\n",
    "cv2.imshow('IMREAD_ANYCOLOR', img)\n",
    "\n",
    "cv2.waitKey(0)\n",
    " \n",
    "cv2.destroyAllWindows()\n",
    "\n"
   ]
  },
  {
   "cell_type": "code",
   "execution_count": 24,
   "metadata": {},
   "outputs": [],
   "source": [
    "img = cv2.imread(r'C:\\Users\\Bachi\\Desktop\\DS\\OpenCV\\geeks14.png',cv2.IMREAD_ANYDEPTH)\n",
    "cv2.imshow('IMREAD_ANYDEPTH', img)\n",
    "\n",
    "cv2.waitKey(0)\n",
    " \n",
    "cv2.destroyAllWindows()\n",
    "\n",
    "\n"
   ]
  },
  {
   "cell_type": "markdown",
   "metadata": {},
   "source": [
    "# Task 2. To save/write the image in the system"
   ]
  },
  {
   "cell_type": "code",
   "execution_count": 25,
   "metadata": {},
   "outputs": [
    {
     "data": {
      "text/plain": [
       "True"
      ]
     },
     "execution_count": 25,
     "metadata": {},
     "output_type": "execute_result"
    }
   ],
   "source": [
    "img = cv2.imread(r'C:\\Users\\Bachi\\Desktop\\DS\\OpenCV\\geeks14.png')\n",
    "cv2.imwrite(r'C:\\Users\\Bachi\\Desktop\\geeks14.png',img)\n"
   ]
  }
 ],
 "metadata": {
  "kernelspec": {
   "display_name": "Python 3",
   "language": "python",
   "name": "python3"
  },
  "language_info": {
   "codemirror_mode": {
    "name": "ipython",
    "version": 3
   },
   "file_extension": ".py",
   "mimetype": "text/x-python",
   "name": "python",
   "nbconvert_exporter": "python",
   "pygments_lexer": "ipython3",
   "version": "3.7.3"
  }
 },
 "nbformat": 4,
 "nbformat_minor": 4
}
